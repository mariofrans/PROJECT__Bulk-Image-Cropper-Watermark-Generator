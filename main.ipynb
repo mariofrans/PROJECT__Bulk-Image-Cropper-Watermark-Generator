{
 "cells": [
  {
   "cell_type": "code",
   "execution_count": null,
   "metadata": {},
   "outputs": [],
   "source": [
    "from functions import *"
   ]
  },
  {
   "attachments": {},
   "cell_type": "markdown",
   "metadata": {},
   "source": [
    "# Driver Code"
   ]
  },
  {
   "cell_type": "code",
   "execution_count": null,
   "metadata": {},
   "outputs": [],
   "source": [
    "# find all folders in raw directory\n",
    "# filter out '.DS_Store' files (for Mac users)\n",
    "folders_raw = [f for f in os.listdir(PATH_FOLDER_RAW) if f!='.DS_Store']\n",
    "folders_raw"
   ]
  },
  {
   "cell_type": "markdown",
   "metadata": {},
   "source": [
    "### 4:5 Crop, & Watermark Images"
   ]
  },
  {
   "cell_type": "code",
   "execution_count": null,
   "metadata": {},
   "outputs": [],
   "source": [
    "for folder in folders_raw:\n",
    "\n",
    "    list_images, path_folder_raw, path_folder_edited = get_folder_images(folder)\n",
    "\n",
    "    for image in list_images:\n",
    "\n",
    "        # read raw image\n",
    "        path_image_raw = f'{path_folder_raw}/{image}'\n",
    "        image_raw = Image.open(path_image_raw)\n",
    "        w, h = image_raw.size\n",
    "\n",
    "        # generate & resize front & background images (from raw image)\n",
    "        # crop background image to square\n",
    "        if w > h:\n",
    "            image_resized = resize_image(image_raw, 1080, by='height')\n",
    "            image_resized = crop_image(image_resized, 864, 1080)\n",
    "        else:\n",
    "            image_resized = resize_image(image_raw, 864, by='width')\n",
    "            image_resized = crop_image(image_resized, 864, 1080)\n",
    "\n",
    "        # convert combined image to cv2 format\n",
    "        image_resized = cv2.cvtColor(np.array(image_resized), cv2.COLOR_RGB2BGR)\n",
    "\n",
    "        # add watermark to image\n",
    "        image_combined = watermark_image(image_resized, scale_watermark=0.15)\n",
    "\n",
    "        # save edited image\n",
    "        path_image_edited = f'{path_folder_edited}/edited-{image}'\n",
    "        cv2.imwrite(path_image_edited, image_combined)"
   ]
  },
  {
   "attachments": {},
   "cell_type": "markdown",
   "metadata": {},
   "source": [
    "### Square Crop, & Watermark Images"
   ]
  },
  {
   "cell_type": "code",
   "execution_count": null,
   "metadata": {},
   "outputs": [],
   "source": [
    "# for folder in folders_raw:\n",
    "\n",
    "#     list_images, path_folder_raw, path_folder_edited = get_folder_images(folder)\n",
    "\n",
    "#     for image in list_images:\n",
    "\n",
    "#         # read raw image\n",
    "#         path_image_raw = f'{path_folder_raw}/{image}'\n",
    "#         image_raw = Image.open(path_image_raw)\n",
    "#         w, h = image_raw.size\n",
    "\n",
    "#         # generate & resize front & background images (from raw image)\n",
    "#         # crop background image to square\n",
    "#         if w > h:\n",
    "#             image_resized = resize_image(image_raw, 1080, by='height')\n",
    "#             image_resized = crop_image_square(image_resized, 1080, by='height')\n",
    "#         else:\n",
    "#             image_resized = resize_image(image_raw, 1080, by='width')\n",
    "#             image_resized = crop_image_square(image_resized, 1080, by='width')\n",
    "\n",
    "#         # convert combined image to cv2 format\n",
    "#         image_resized = cv2.cvtColor(np.array(image_resized), cv2.COLOR_RGB2BGR)\n",
    "\n",
    "#         # add watermark to image\n",
    "#         image_combined = watermark_image(image_resized, scale_watermark=0.15)\n",
    "\n",
    "#         # save edited image\n",
    "#         path_image_edited = f'{path_folder_edited}/edited-{image}'\n",
    "#         cv2.imwrite(path_image_edited, image_combined)"
   ]
  },
  {
   "attachments": {},
   "cell_type": "markdown",
   "metadata": {},
   "source": [
    "### Square Crop, Blurred Border, & Watermark Images"
   ]
  },
  {
   "cell_type": "code",
   "execution_count": null,
   "metadata": {},
   "outputs": [],
   "source": [
    "# for folder in folders_raw:\n",
    "\n",
    "#     list_images, path_folder_raw, path_folder_edited = get_folder_images(folder)\n",
    "\n",
    "#     for image in list_images:\n",
    "\n",
    "#         # read raw image\n",
    "#         path_image_raw = f'{path_folder_raw}/{image}'\n",
    "#         image_raw = Image.open(path_image_raw)\n",
    "#         w, h = image_raw.size\n",
    "\n",
    "#         # generate & resize front & background images (from raw image)\n",
    "#         # crop background image to square\n",
    "#         if w > h:\n",
    "#             image_back = resize_image(image_raw, 1080, by='height')\n",
    "#             image_front = resize_image(image_raw, 1080, by='width')\n",
    "#             image_back = crop_image_square(image_back, 1080, by='height')\n",
    "#         else:\n",
    "#             image_back = resize_image(image_raw, 1080, by='width')\n",
    "#             image_front = resize_image(image_raw, 1080, by='height')\n",
    "#             image_back = crop_image_square(image_back, 1080, by='width')\n",
    "\n",
    "#         # combine background & front images\n",
    "#         image_combined = combine_images(image_back, image_front)\n",
    "\n",
    "#         # convert combined image to cv2 format\n",
    "#         image_combined = cv2.cvtColor(np.array(image_combined), cv2.COLOR_RGB2BGR)\n",
    "\n",
    "#         # add watermark to image\n",
    "#         image_combined = watermark_image(image_combined, scale_watermark=0.15)\n",
    "\n",
    "#         # save edited image\n",
    "#         path_image_edited = f'{path_folder_edited}/edited-{image}'\n",
    "#         cv2.imwrite(path_image_edited, image_combined)"
   ]
  }
 ],
 "metadata": {
  "kernelspec": {
   "display_name": "venv",
   "language": "python",
   "name": "python3"
  },
  "language_info": {
   "codemirror_mode": {
    "name": "ipython",
    "version": 3
   },
   "file_extension": ".py",
   "mimetype": "text/x-python",
   "name": "python",
   "nbconvert_exporter": "python",
   "pygments_lexer": "ipython3",
   "version": "3.10.14"
  },
  "orig_nbformat": 4,
  "vscode": {
   "interpreter": {
    "hash": "694c0f390dd87efdb4392941ec90266ad972450cf82fbbc422b41d8fe8189bcf"
   }
  }
 },
 "nbformat": 4,
 "nbformat_minor": 2
}
